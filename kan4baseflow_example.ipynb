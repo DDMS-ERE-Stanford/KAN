{
 "cells": [
  {
   "cell_type": "markdown",
   "metadata": {},
   "source": [
    "# Example of Kan-Derived Function fb"
   ]
  },
  {
   "cell_type": "code",
   "execution_count": 1,
   "metadata": {
    "ExecuteTime": {
     "end_time": "2024-10-10T08:05:43.623472Z",
     "start_time": "2024-10-10T08:05:42.245679Z"
    }
   },
   "outputs": [],
   "source": [
    "import os\n",
    "from kan import *\n",
    "import pandas as pd\n",
    "from sklearn.model_selection import train_test_split, KFold\n",
    "import numpy as np\n",
    "import torch\n",
    "import HydroErr as he"
   ]
  },
  {
   "cell_type": "markdown",
   "metadata": {},
   "source": [
    "# Input"
   ]
  },
  {
   "cell_type": "code",
   "execution_count": 2,
   "outputs": [
    {
     "data": {
      "text/plain": "'/Users/chuyangliu/Documents/Postdoc/Cive898/Writtings/GitHub_kan4baseflow'"
     },
     "execution_count": 2,
     "metadata": {},
     "output_type": "execute_result"
    }
   ],
   "source": [
    "os.chdir('/Users/chuyangliu/Documents/Postdoc/Cive898/Writtings/GitHub_kan4baseflow')\n",
    "os.getcwd()"
   ],
   "metadata": {
    "collapsed": false,
    "ExecuteTime": {
     "end_time": "2024-10-10T08:05:43.627750Z",
     "start_time": "2024-10-10T08:05:43.623569Z"
    }
   }
  },
  {
   "cell_type": "code",
   "execution_count": 3,
   "outputs": [],
   "source": [
    "col_index = 'Qb_hat/P_hat_true'\n",
    "dir_in = r'./Datasets/Meira Neto et al 2020.xlsx' "
   ],
   "metadata": {
    "collapsed": false,
    "ExecuteTime": {
     "end_time": "2024-10-10T08:05:43.631676Z",
     "start_time": "2024-10-10T08:05:43.628395Z"
    }
   }
  },
  {
   "cell_type": "markdown",
   "source": [
    "# Helper functions"
   ],
   "metadata": {
    "collapsed": false
   }
  },
  {
   "cell_type": "code",
   "execution_count": 4,
   "outputs": [],
   "source": [
    "def to_numpy_1d(array_like):\n",
    "    import torch\n",
    "    if isinstance(array_like, torch.Tensor):\n",
    "        array_like = array_like.detach().cpu().numpy()\n",
    "    return np.ravel(array_like)\n",
    "\n",
    "def model_performance(sim_train, obs_train, sim_test, obs_test, additional_metrics=None):\n",
    "    import HydroErr as he\n",
    "    sim_train = to_numpy_1d(sim_train)\n",
    "    obs_train = to_numpy_1d(obs_train)\n",
    "    sim_test = to_numpy_1d(sim_test)\n",
    "    obs_test = to_numpy_1d(obs_test)\n",
    "\n",
    "    metrics = {\n",
    "        'R^2': he.r_squared,\n",
    "        'RMSE': he.rmse,\n",
    "        'KGE': he.kge_2012,\n",
    "        'NSE': he.nse\n",
    "    }\n",
    "\n",
    "    if additional_metrics:\n",
    "        metrics.update(additional_metrics)\n",
    "\n",
    "    def evaluate_metrics(sim, obs):\n",
    "        results = {}\n",
    "        for name, func in metrics.items():\n",
    "            results[name] = func(sim, obs)\n",
    "        return results\n",
    "\n",
    "    train_results = evaluate_metrics(sim_train, obs_train)\n",
    "    test_results = evaluate_metrics(sim_test, obs_test)\n",
    "\n",
    "    print(f\"Model performance on training data:\")\n",
    "    for name, value in train_results.items():\n",
    "        print(f\"{name} (train): {value}\")\n",
    "\n",
    "    print(f\"\\nModel performance on test data:\")\n",
    "    for name, value in test_results.items():\n",
    "        print(f\"{name} (test): {value}\")\n"
   ],
   "metadata": {
    "collapsed": false,
    "ExecuteTime": {
     "end_time": "2024-10-10T08:05:43.635241Z",
     "start_time": "2024-10-10T08:05:43.632734Z"
    }
   }
  },
  {
   "cell_type": "code",
   "execution_count": 5,
   "outputs": [],
   "source": [
    "def average_r2(df_all, opt, lamb, lamb_coef, grid, seed, lib, x_label='Phi', y_label='Qb_hat/P_hat_true', n_splits=10,\n",
    "               random_state=0, verbose=0):\n",
    "    \n",
    "    df_all['Qd_hat/P_hat_true'] = df_all['Qd'] / df_all['P']\n",
    "    df_all['Qb_hat/P_hat_true'] = df_all['Qb'] / df_all['P']\n",
    "\n",
    "    X_all = df_all[[x_label]].copy()\n",
    "    y_all = df_all[y_label].values.reshape(-1, 1).copy()\n",
    "\n",
    "    X, X_test_all, y, y_test_all = train_test_split(X_all, y_all, test_size=0.2, random_state=random_state)\n",
    "\n",
    "\n",
    "    kf = KFold(n_splits=n_splits, shuffle=True, random_state=random_state)\n",
    "\n",
    "    list_r2_test = []\n",
    "\n",
    "    for fold, (train_index, test_index) in enumerate(kf.split(X)):\n",
    "        print(f'\\nFold {fold + 1}')\n",
    "        X_train, X_test = X.iloc[train_index], X.iloc[test_index]\n",
    "        y_train, y_test = y[train_index], y[test_index]\n",
    "\n",
    "        n_repeat = 1\n",
    "        X_train = np.repeat(X_train, n_repeat, axis=0)\n",
    "        y_train = np.repeat(y_train, n_repeat, axis=0)\n",
    "        X_test = X_test.values\n",
    "        y_test = y_test.flatten()\n",
    "\n",
    "        X_train = torch.from_numpy(X_train).float()\n",
    "        X_test = torch.from_numpy(X_test).float()\n",
    "        y_train = torch.from_numpy(y_train)\n",
    "        y_test = torch.from_numpy(y_test)\n",
    "\n",
    "        dataset = {\n",
    "            'train_input': X_train,\n",
    "            'test_input': X_test,\n",
    "            'train_label': y_train,\n",
    "            'test_label': y_test\n",
    "        }\n",
    "\n",
    "        model = KAN(width=[X_train.shape[1], 1], grid=grid, k=3, seed=seed)\n",
    "        model(dataset['train_input'])\n",
    "\n",
    "        model.train(dataset, opt=opt, steps=20, lamb=lamb, lamb_coef=lamb_coef)\n",
    "\n",
    "        for epoch in range(2):\n",
    "            results = model.train(dataset, opt=opt, steps=50, lamb=lamb, lamb_coef=lamb_coef)\n",
    "\n",
    "\n",
    "        model.auto_symbolic(lib=lib)\n",
    "\n",
    "        for epoch in range(1):\n",
    "            model.train(dataset, opt=opt, steps=50, lamb=lamb, lamb_coef=lamb_coef)\n",
    "\n",
    "        y_train_predicted = model(X_train)\n",
    "        y_test_predicted = model(X_test)\n",
    "\n",
    "        r2_train = he.r_squared(y_train_predicted.detach().numpy()[:, 0], y_train.detach().numpy().flatten())\n",
    "        r2_test = he.r_squared(y_test_predicted.detach().numpy()[:, 0], y_test.detach().numpy().flatten())\n",
    "\n",
    "        list_r2_test.append(r2_test)\n",
    "\n",
    "        if verbose > 0:\n",
    "            print(f\"... KAN eqn: {model.symbolic_formula()[0][0]}\")\n",
    "            print(f'... Pre-training set (R^2): {r2_train}')\n",
    "            print(f'... Validation set (R^2): {r2_test}')\n",
    "\n",
    "        # -- all test\n",
    "        y_pred_all = model(torch.from_numpy(X_test_all.values).float())\n",
    "        r2_all = he.r_squared(y_pred_all.detach().numpy().flatten(), y_test_all.flatten())\n",
    "\n",
    "\n",
    "        if verbose > 0:\n",
    "            print(f\"\\n\")\n",
    "            model_performance(sim_train=model(torch.from_numpy(X.values).float()),\n",
    "                              obs_train=y,\n",
    "                              sim_test=y_pred_all,\n",
    "                              obs_test=y_test_all,\n",
    "                              additional_metrics=None)\n",
    "\n",
    "\n",
    "    avg_r2 = np.nanmean(list_r2_test)\n",
    "\n",
    "\n",
    "    return avg_r2"
   ],
   "metadata": {
    "collapsed": false,
    "ExecuteTime": {
     "end_time": "2024-10-10T08:05:43.644335Z",
     "start_time": "2024-10-10T08:05:43.640648Z"
    }
   }
  },
  {
   "cell_type": "markdown",
   "metadata": {},
   "source": [
    "# Load Data\n"
   ]
  },
  {
   "cell_type": "code",
   "execution_count": 6,
   "metadata": {
    "ExecuteTime": {
     "end_time": "2024-10-10T08:05:43.759164Z",
     "start_time": "2024-10-10T08:05:43.642932Z"
    }
   },
   "outputs": [],
   "source": [
    "df_all = pd.read_excel(dir_in)"
   ]
  },
  {
   "cell_type": "markdown",
   "source": [
    "# Hyperparameter tuning"
   ],
   "metadata": {
    "collapsed": false
   }
  },
  {
   "cell_type": "code",
   "execution_count": 7,
   "outputs": [],
   "source": [
    "# Input\n",
    "opt = \"LBFGS\"\n",
    "lamb = 1e-2 \n",
    "lamb_coef = 0.0\n",
    "width = 1\n",
    "lib = None"
   ],
   "metadata": {
    "collapsed": false,
    "ExecuteTime": {
     "end_time": "2024-10-10T08:05:43.759556Z",
     "start_time": "2024-10-10T08:05:43.755907Z"
    }
   }
  },
  {
   "cell_type": "code",
   "execution_count": 8,
   "outputs": [
    {
     "name": "stdout",
     "output_type": "stream",
     "text": [
      "Testing seed=0, grid=2\n",
      "\n",
      "Fold 1\n"
     ]
    },
    {
     "name": "stderr",
     "output_type": "stream",
     "text": [
      "train loss: 6.16e-02 | test loss: 1.34e-01 | reg: 1.10e-02 : 100%|██| 20/20 [00:00<00:00, 27.93it/s]\n",
      "train loss: 6.16e-02 | test loss: 1.34e-01 | reg: 1.10e-02 : 100%|██| 50/50 [00:00<00:00, 96.71it/s]\n",
      "train loss: 6.16e-02 | test loss: 1.34e-01 | reg: 1.10e-02 : 100%|██| 50/50 [00:00<00:00, 89.87it/s]\n"
     ]
    },
    {
     "name": "stdout",
     "output_type": "stream",
     "text": [
      "fixing (0,0,0) with x^4, r2=0.9998977780342102\n"
     ]
    },
    {
     "name": "stderr",
     "output_type": "stream",
     "text": [
      "train loss: 6.48e-02 | test loss: 1.38e-01 | reg: 1.08e-02 : 100%|██| 50/50 [00:00<00:00, 80.95it/s]\n"
     ]
    },
    {
     "name": "stdout",
     "output_type": "stream",
     "text": [
      "\n",
      "Fold 2\n"
     ]
    },
    {
     "name": "stderr",
     "output_type": "stream",
     "text": [
      "train loss: 5.90e-02 | test loss: 1.89e-01 | reg: 1.83e-02 : 100%|██| 20/20 [00:00<00:00, 61.34it/s]\n",
      "train loss: 5.88e-02 | test loss: 3.46e+00 | reg: 1.87e-02 : 100%|██| 50/50 [00:01<00:00, 47.24it/s]\n",
      "train loss: 5.88e-02 | test loss: 3.46e+00 | reg: 1.86e-02 : 100%|█| 50/50 [00:00<00:00, 117.10it/s]\n"
     ]
    },
    {
     "name": "stdout",
     "output_type": "stream",
     "text": [
      "fixing (0,0,0) with 1/x^2, r2=0.9993380308151245\n"
     ]
    },
    {
     "name": "stderr",
     "output_type": "stream",
     "text": [
      "train loss: 8.11e-02 | test loss: 2.34e-01 | reg: 1.25e-02 : 100%|██| 50/50 [00:01<00:00, 43.02it/s]\n"
     ]
    },
    {
     "name": "stdout",
     "output_type": "stream",
     "text": [
      "\n",
      "Fold 3\n"
     ]
    },
    {
     "name": "stderr",
     "output_type": "stream",
     "text": [
      "train loss: 6.19e-02 | test loss: 1.42e-01 | reg: 1.11e-02 : 100%|██| 20/20 [00:00<00:00, 61.84it/s]\n",
      "train loss: 6.19e-02 | test loss: 1.42e-01 | reg: 1.11e-02 : 100%|█| 50/50 [00:00<00:00, 131.52it/s]\n",
      "train loss: 6.19e-02 | test loss: 1.42e-01 | reg: 1.11e-02 : 100%|█| 50/50 [00:00<00:00, 160.67it/s]\n"
     ]
    },
    {
     "name": "stdout",
     "output_type": "stream",
     "text": [
      "fixing (0,0,0) with x^4, r2=0.9999616742134094\n"
     ]
    },
    {
     "name": "stderr",
     "output_type": "stream",
     "text": [
      "train loss: 6.49e-02 | test loss: 1.36e-01 | reg: 1.09e-02 : 100%|██| 50/50 [00:00<00:00, 91.18it/s]\n"
     ]
    },
    {
     "name": "stdout",
     "output_type": "stream",
     "text": [
      "\n",
      "Fold 4\n"
     ]
    },
    {
     "name": "stderr",
     "output_type": "stream",
     "text": [
      "train loss: 6.17e-02 | test loss: 1.28e-01 | reg: 1.11e-02 : 100%|██| 20/20 [00:00<00:00, 44.75it/s]\n",
      "train loss: 6.17e-02 | test loss: 1.28e-01 | reg: 1.11e-02 : 100%|█| 50/50 [00:00<00:00, 165.73it/s]\n",
      "train loss: 6.17e-02 | test loss: 1.28e-01 | reg: 1.11e-02 : 100%|█| 50/50 [00:00<00:00, 155.10it/s]\n"
     ]
    },
    {
     "name": "stdout",
     "output_type": "stream",
     "text": [
      "fixing (0,0,0) with cosh, r2=0.9996088743209839\n"
     ]
    },
    {
     "name": "stderr",
     "output_type": "stream",
     "text": [
      "train loss: nan | test loss: nan | reg: nan : 100%|█████████████████| 50/50 [00:01<00:00, 26.76it/s]\n",
      "/Users/chuyangliu/anaconda3/envs/cive898/lib/python3.10/site-packages/HydroErr/HydroErr.py:6248: UserWarning: Row(s) [  0   1   2   3   4   5   6   7   8   9  10  11  12  13  14  15  16  17\n",
      "  18  19  20  21  22  23  24  25  26  27  28  29  30  31  32  33  34  35\n",
      "  36  37  38  39  40  41  42  43  44  45  46  47  48  49  50  51  52  53\n",
      "  54  55  56  57  58  59  60  61  62  63  64  65  66  67  68  69  70  71\n",
      "  72  73  74  75  76  77  78  79  80  81  82  83  84  85  86  87  88  89\n",
      "  90  91  92  93  94  95  96  97  98  99 100 101 102 103 104 105 106 107\n",
      " 108 109 110 111 112 113 114 115 116 117 118 119 120 121 122 123 124 125\n",
      " 126 127 128 129 130 131 132 133 134 135 136 137 138 139 140 141 142 143\n",
      " 144 145 146 147 148 149 150 151 152 153 154 155 156 157 158 159 160 161\n",
      " 162 163 164 165 166 167 168 169 170 171 172 173 174 175 176 177 178 179\n",
      " 180 181 182 183 184 185 186 187 188 189 190 191 192 193 194 195 196 197\n",
      " 198 199 200 201 202 203 204 205 206 207 208 209 210 211 212 213 214 215\n",
      " 216 217 218 219 220 221 222 223 224 225 226 227 228 229 230 231 232 233\n",
      " 234 235 236 237 238 239 240 241 242 243 244 245 246 247 248 249 250 251\n",
      " 252 253 254 255 256 257 258 259 260 261 262 263 264 265 266 267 268 269\n",
      " 270 271] contained NaN values and the row(s) have been removed (Rows are zero indexed).\n",
      "  warnings.warn(\"Row(s) {} contained NaN values and the row(s) have been \"\n",
      "/Users/chuyangliu/anaconda3/envs/cive898/lib/python3.10/site-packages/numpy/core/fromnumeric.py:3504: RuntimeWarning: Mean of empty slice.\n",
      "  return _methods._mean(a, axis=axis, dtype=dtype,\n",
      "/Users/chuyangliu/anaconda3/envs/cive898/lib/python3.10/site-packages/numpy/core/_methods.py:129: RuntimeWarning: invalid value encountered in scalar divide\n",
      "  ret = ret.dtype.type(ret / rcount)\n",
      "/Users/chuyangliu/anaconda3/envs/cive898/lib/python3.10/site-packages/numpy/core/_methods.py:129: RuntimeWarning: invalid value encountered in divide\n",
      "  ret = ret.dtype.type(ret / rcount)\n",
      "/Users/chuyangliu/anaconda3/envs/cive898/lib/python3.10/site-packages/HydroErr/HydroErr.py:1697: RuntimeWarning: invalid value encountered in scalar divide\n",
      "  return (np.sum(a * b)) ** 2 / (np.sum(a ** 2) * np.sum(b ** 2))\n",
      "/Users/chuyangliu/anaconda3/envs/cive898/lib/python3.10/site-packages/HydroErr/HydroErr.py:6248: UserWarning: Row(s) [ 0  1  2  3  4  5  6  7  8  9 10 11 12 13 14 15 16 17 18 19 20 21 22 23\n",
      " 24 25 26 27 28 29] contained NaN values and the row(s) have been removed (Rows are zero indexed).\n",
      "  warnings.warn(\"Row(s) {} contained NaN values and the row(s) have been \"\n",
      "/Users/chuyangliu/anaconda3/envs/cive898/lib/python3.10/site-packages/HydroErr/HydroErr.py:6248: UserWarning: Row(s) [ 0  1  2  3  4  5  6  7  8  9 10 11 12 13 14 15 16 17 18 19 20 21 22 23\n",
      " 24 25 26 27 28 29 30 31 32 33 34 35 36 37 38 39 40 41 42 43 44 45 46 47\n",
      " 48 49 50 51 52 53 54 55 56 57 58 59 60 61 62 63 64 65 66 67 68 69 70 71\n",
      " 72 73 74 75] contained NaN values and the row(s) have been removed (Rows are zero indexed).\n",
      "  warnings.warn(\"Row(s) {} contained NaN values and the row(s) have been \"\n"
     ]
    },
    {
     "name": "stdout",
     "output_type": "stream",
     "text": [
      "\n",
      "Fold 5\n"
     ]
    },
    {
     "name": "stderr",
     "output_type": "stream",
     "text": [
      "train loss: 5.81e-02 | test loss: 1.61e-01 | reg: 1.11e-02 : 100%|██| 20/20 [00:00<00:00, 39.18it/s]\n",
      "train loss: 5.81e-02 | test loss: 1.61e-01 | reg: 1.11e-02 : 100%|██| 50/50 [00:01<00:00, 43.29it/s]\n",
      "train loss: 5.81e-02 | test loss: 1.61e-01 | reg: 1.11e-02 : 100%|██| 50/50 [00:01<00:00, 39.56it/s]\n"
     ]
    },
    {
     "name": "stdout",
     "output_type": "stream",
     "text": [
      "fixing (0,0,0) with arctan, r2=0.9992539286613464\n"
     ]
    },
    {
     "name": "stderr",
     "output_type": "stream",
     "text": [
      "train loss: 5.77e-02 | test loss: 1.58e-01 | reg: 1.13e-02 : 100%|██| 50/50 [00:01<00:00, 47.19it/s]\n"
     ]
    },
    {
     "name": "stdout",
     "output_type": "stream",
     "text": [
      "\n",
      "Fold 6\n"
     ]
    },
    {
     "name": "stderr",
     "output_type": "stream",
     "text": [
      "train loss: 6.10e-02 | test loss: 1.71e-01 | reg: 1.08e-02 : 100%|██| 20/20 [00:00<00:00, 35.08it/s]\n",
      "train loss: 6.10e-02 | test loss: 1.71e-01 | reg: 1.08e-02 : 100%|██| 50/50 [00:01<00:00, 35.94it/s]\n",
      "train loss: 6.10e-02 | test loss: 1.71e-01 | reg: 1.08e-02 : 100%|██| 50/50 [00:01<00:00, 39.59it/s]\n"
     ]
    },
    {
     "name": "stdout",
     "output_type": "stream",
     "text": [
      "fixing (0,0,0) with arctan, r2=0.9991993308067322\n"
     ]
    },
    {
     "name": "stderr",
     "output_type": "stream",
     "text": [
      "train loss: 6.09e-02 | test loss: 1.70e-01 | reg: 1.09e-02 : 100%|█| 50/50 [00:00<00:00, 145.88it/s]\n"
     ]
    },
    {
     "name": "stdout",
     "output_type": "stream",
     "text": [
      "\n",
      "Fold 7\n"
     ]
    },
    {
     "name": "stderr",
     "output_type": "stream",
     "text": [
      "train loss: 6.15e-02 | test loss: 1.57e-01 | reg: 1.08e-02 : 100%|██| 20/20 [00:00<00:00, 41.62it/s]\n",
      "train loss: 6.15e-02 | test loss: 1.57e-01 | reg: 1.08e-02 : 100%|█| 50/50 [00:00<00:00, 128.36it/s]\n",
      "train loss: 6.15e-02 | test loss: 1.57e-01 | reg: 1.08e-02 : 100%|█| 50/50 [00:00<00:00, 138.83it/s]\n"
     ]
    },
    {
     "name": "stdout",
     "output_type": "stream",
     "text": [
      "fixing (0,0,0) with exp, r2=0.9992741942405701\n"
     ]
    },
    {
     "name": "stderr",
     "output_type": "stream",
     "text": [
      "train loss: 6.19e-02 | test loss: 1.57e-01 | reg: 1.06e-02 : 100%|█| 50/50 [00:00<00:00, 139.07it/s]\n"
     ]
    },
    {
     "name": "stdout",
     "output_type": "stream",
     "text": [
      "\n",
      "Fold 8\n"
     ]
    },
    {
     "name": "stderr",
     "output_type": "stream",
     "text": [
      "train loss: 6.06e-02 | test loss: 1.28e-01 | reg: 1.13e-02 : 100%|██| 20/20 [00:00<00:00, 30.82it/s]\n",
      "train loss: 6.02e-02 | test loss: 1.27e-01 | reg: 1.12e-02 : 100%|██| 50/50 [00:00<00:00, 65.79it/s]\n",
      "train loss: 6.02e-02 | test loss: 1.27e-01 | reg: 1.12e-02 : 100%|█| 50/50 [00:00<00:00, 115.26it/s]\n"
     ]
    },
    {
     "name": "stdout",
     "output_type": "stream",
     "text": [
      "fixing (0,0,0) with exp, r2=0.9994964003562927\n"
     ]
    },
    {
     "name": "stderr",
     "output_type": "stream",
     "text": [
      "train loss: 6.08e-02 | test loss: 1.25e-01 | reg: 1.09e-02 : 100%|█| 50/50 [00:00<00:00, 118.12it/s]\n"
     ]
    },
    {
     "name": "stdout",
     "output_type": "stream",
     "text": [
      "\n",
      "Fold 9\n"
     ]
    },
    {
     "name": "stderr",
     "output_type": "stream",
     "text": [
      "train loss: 5.93e-02 | test loss: 1.69e-01 | reg: 1.08e-02 : 100%|██| 20/20 [00:00<00:00, 30.69it/s]\n",
      "train loss: 5.92e-02 | test loss: 1.69e-01 | reg: 1.09e-02 : 100%|██| 50/50 [00:00<00:00, 70.60it/s]\n",
      "train loss: 5.92e-02 | test loss: 1.69e-01 | reg: 1.08e-02 : 100%|██| 50/50 [00:00<00:00, 61.98it/s]\n"
     ]
    },
    {
     "name": "stdout",
     "output_type": "stream",
     "text": [
      "fixing (0,0,0) with cosh, r2=0.9997639060020447\n"
     ]
    },
    {
     "name": "stderr",
     "output_type": "stream",
     "text": [
      "train loss: 5.87e-02 | test loss: 1.70e-01 | reg: 1.05e-02 : 100%|██| 50/50 [00:00<00:00, 71.51it/s]\n"
     ]
    },
    {
     "name": "stdout",
     "output_type": "stream",
     "text": [
      "\n",
      "Fold 10\n"
     ]
    },
    {
     "name": "stderr",
     "output_type": "stream",
     "text": [
      "train loss: 5.97e-02 | test loss: 1.65e-01 | reg: 1.10e-02 : 100%|██| 20/20 [00:00<00:00, 47.38it/s]\n",
      "train loss: 5.97e-02 | test loss: 1.65e-01 | reg: 1.10e-02 : 100%|█| 50/50 [00:00<00:00, 178.56it/s]\n",
      "train loss: 5.97e-02 | test loss: 1.65e-01 | reg: 1.10e-02 : 100%|█| 50/50 [00:00<00:00, 158.97it/s]\n"
     ]
    },
    {
     "name": "stdout",
     "output_type": "stream",
     "text": [
      "fixing (0,0,0) with x^4, r2=0.9999455809593201\n"
     ]
    },
    {
     "name": "stderr",
     "output_type": "stream",
     "text": [
      "train loss: 6.24e-02 | test loss: 1.60e-01 | reg: 1.34e-02 : 100%|██| 50/50 [00:00<00:00, 86.55it/s]\n"
     ]
    },
    {
     "name": "stdout",
     "output_type": "stream",
     "text": [
      "Average R^2: 0.6950700686614179\n",
      "Testing seed=0, grid=3\n",
      "\n",
      "Fold 1\n"
     ]
    },
    {
     "name": "stderr",
     "output_type": "stream",
     "text": [
      "train loss: 6.16e-02 | test loss: 1.34e-01 | reg: 1.11e-02 : 100%|██| 20/20 [00:00<00:00, 38.43it/s]\n",
      "train loss: 6.16e-02 | test loss: 1.34e-01 | reg: 1.11e-02 : 100%|█| 50/50 [00:00<00:00, 117.43it/s]\n",
      "train loss: 6.16e-02 | test loss: 1.34e-01 | reg: 1.11e-02 : 100%|█| 50/50 [00:00<00:00, 103.34it/s]\n"
     ]
    },
    {
     "name": "stdout",
     "output_type": "stream",
     "text": [
      "fixing (0,0,0) with x^3, r2=0.9999996423721313\n"
     ]
    },
    {
     "name": "stderr",
     "output_type": "stream",
     "text": [
      "train loss: 7.01e-02 | test loss: 1.37e-01 | reg: 1.01e-02 : 100%|██| 50/50 [00:00<00:00, 92.79it/s]\n"
     ]
    },
    {
     "name": "stdout",
     "output_type": "stream",
     "text": [
      "\n",
      "Fold 2\n"
     ]
    },
    {
     "name": "stderr",
     "output_type": "stream",
     "text": [
      "train loss: 5.91e-02 | test loss: 1.84e-01 | reg: 1.84e-02 : 100%|██| 20/20 [00:00<00:00, 57.19it/s]\n",
      "train loss: 5.91e-02 | test loss: 1.84e-01 | reg: 1.84e-02 : 100%|██| 50/50 [00:00<00:00, 72.27it/s]\n",
      "train loss: 5.91e-02 | test loss: 1.84e-01 | reg: 1.84e-02 : 100%|██| 50/50 [00:00<00:00, 81.45it/s]\n"
     ]
    },
    {
     "name": "stdout",
     "output_type": "stream",
     "text": [
      "fixing (0,0,0) with cosh, r2=0.9870108366012573\n"
     ]
    },
    {
     "name": "stderr",
     "output_type": "stream",
     "text": [
      "train loss: 5.95e-02 | test loss: 1.86e-01 | reg: 1.79e-02 : 100%|██| 50/50 [00:00<00:00, 94.18it/s]\n"
     ]
    },
    {
     "name": "stdout",
     "output_type": "stream",
     "text": [
      "\n",
      "Fold 3\n"
     ]
    },
    {
     "name": "stderr",
     "output_type": "stream",
     "text": [
      "train loss: 6.20e-02 | test loss: 1.43e-01 | reg: 1.12e-02 : 100%|██| 20/20 [00:00<00:00, 57.29it/s]\n",
      "train loss: 6.20e-02 | test loss: 1.42e-01 | reg: 1.11e-02 : 100%|██| 50/50 [00:00<00:00, 68.21it/s]\n",
      "train loss: 6.20e-02 | test loss: 1.42e-01 | reg: 1.11e-02 : 100%|█| 50/50 [00:00<00:00, 135.92it/s]\n"
     ]
    },
    {
     "name": "stdout",
     "output_type": "stream",
     "text": [
      "fixing (0,0,0) with x^4, r2=0.9999532699584961\n"
     ]
    },
    {
     "name": "stderr",
     "output_type": "stream",
     "text": [
      "train loss: 6.49e-02 | test loss: 1.36e-01 | reg: 1.09e-02 : 100%|█| 50/50 [00:00<00:00, 101.25it/s]\n"
     ]
    },
    {
     "name": "stdout",
     "output_type": "stream",
     "text": [
      "\n",
      "Fold 4\n"
     ]
    },
    {
     "name": "stderr",
     "output_type": "stream",
     "text": [
      "train loss: 6.17e-02 | test loss: 1.29e-01 | reg: 1.12e-02 : 100%|██| 20/20 [00:00<00:00, 43.67it/s]\n",
      "train loss: 6.17e-02 | test loss: 1.29e-01 | reg: 1.12e-02 : 100%|██| 50/50 [00:00<00:00, 75.10it/s]\n",
      "train loss: 6.17e-02 | test loss: 1.29e-01 | reg: 1.12e-02 : 100%|█| 50/50 [00:00<00:00, 134.84it/s]\n"
     ]
    },
    {
     "name": "stdout",
     "output_type": "stream",
     "text": [
      "fixing (0,0,0) with tanh, r2=0.9992700219154358\n"
     ]
    },
    {
     "name": "stderr",
     "output_type": "stream",
     "text": [
      "train loss: 6.14e-02 | test loss: 1.29e-01 | reg: 1.15e-02 : 100%|█| 50/50 [00:00<00:00, 125.62it/s]\n"
     ]
    },
    {
     "name": "stdout",
     "output_type": "stream",
     "text": [
      "\n",
      "Fold 5\n"
     ]
    },
    {
     "name": "stderr",
     "output_type": "stream",
     "text": [
      "train loss: 5.81e-02 | test loss: 1.61e-01 | reg: 1.12e-02 : 100%|██| 20/20 [00:00<00:00, 54.42it/s]\n",
      "train loss: 5.81e-02 | test loss: 1.61e-01 | reg: 1.12e-02 : 100%|█| 50/50 [00:00<00:00, 106.08it/s]\n",
      "train loss: 5.81e-02 | test loss: 1.61e-01 | reg: 1.11e-02 : 100%|██| 50/50 [00:00<00:00, 72.07it/s]\n"
     ]
    },
    {
     "name": "stdout",
     "output_type": "stream",
     "text": [
      "fixing (0,0,0) with x^4, r2=0.9991799592971802\n"
     ]
    },
    {
     "name": "stderr",
     "output_type": "stream",
     "text": [
      "train loss: 6.17e-02 | test loss: 1.62e-01 | reg: 1.08e-02 : 100%|██| 50/50 [00:00<00:00, 91.15it/s]\n"
     ]
    },
    {
     "name": "stdout",
     "output_type": "stream",
     "text": [
      "\n",
      "Fold 6\n"
     ]
    },
    {
     "name": "stderr",
     "output_type": "stream",
     "text": [
      "train loss: 6.10e-02 | test loss: 1.71e-01 | reg: 1.09e-02 : 100%|██| 20/20 [00:00<00:00, 31.58it/s]\n",
      "train loss: 6.10e-02 | test loss: 1.71e-01 | reg: 1.09e-02 : 100%|██| 50/50 [00:00<00:00, 80.90it/s]\n",
      "train loss: 6.10e-02 | test loss: 1.71e-01 | reg: 1.09e-02 : 100%|█| 50/50 [00:00<00:00, 100.80it/s]\n"
     ]
    },
    {
     "name": "stdout",
     "output_type": "stream",
     "text": [
      "fixing (0,0,0) with arctan, r2=0.998528778553009\n"
     ]
    },
    {
     "name": "stderr",
     "output_type": "stream",
     "text": [
      "train loss: 6.09e-02 | test loss: 1.70e-01 | reg: 1.09e-02 : 100%|█| 50/50 [00:00<00:00, 100.47it/s]\n"
     ]
    },
    {
     "name": "stdout",
     "output_type": "stream",
     "text": [
      "\n",
      "Fold 7\n"
     ]
    },
    {
     "name": "stderr",
     "output_type": "stream",
     "text": [
      "train loss: 6.15e-02 | test loss: 1.57e-01 | reg: 1.09e-02 : 100%|██| 20/20 [00:00<00:00, 38.71it/s]\n",
      "train loss: 6.15e-02 | test loss: 1.57e-01 | reg: 1.09e-02 : 100%|██| 50/50 [00:00<00:00, 64.87it/s]\n",
      "train loss: 6.15e-02 | test loss: 1.57e-01 | reg: 1.09e-02 : 100%|██| 50/50 [00:00<00:00, 94.73it/s]\n"
     ]
    },
    {
     "name": "stdout",
     "output_type": "stream",
     "text": [
      "fixing (0,0,0) with tanh, r2=0.9990874528884888\n"
     ]
    },
    {
     "name": "stderr",
     "output_type": "stream",
     "text": [
      "train loss: 6.13e-02 | test loss: 1.58e-01 | reg: 1.11e-02 : 100%|█| 50/50 [00:00<00:00, 134.67it/s]\n"
     ]
    },
    {
     "name": "stdout",
     "output_type": "stream",
     "text": [
      "\n",
      "Fold 8\n"
     ]
    },
    {
     "name": "stderr",
     "output_type": "stream",
     "text": [
      "train loss: 6.02e-02 | test loss: 1.28e-01 | reg: 1.13e-02 : 100%|██| 20/20 [00:00<00:00, 41.35it/s]\n",
      "train loss: 6.02e-02 | test loss: 1.28e-01 | reg: 1.13e-02 : 100%|██| 50/50 [00:00<00:00, 86.71it/s]\n",
      "train loss: 6.02e-02 | test loss: 1.28e-01 | reg: 1.13e-02 : 100%|██| 50/50 [00:00<00:00, 90.68it/s]\n"
     ]
    },
    {
     "name": "stdout",
     "output_type": "stream",
     "text": [
      "fixing (0,0,0) with arctan, r2=0.9981390833854675\n"
     ]
    },
    {
     "name": "stderr",
     "output_type": "stream",
     "text": [
      "train loss: 6.01e-02 | test loss: 1.27e-01 | reg: 1.14e-02 : 100%|█| 50/50 [00:00<00:00, 118.04it/s]\n"
     ]
    },
    {
     "name": "stdout",
     "output_type": "stream",
     "text": [
      "\n",
      "Fold 9\n"
     ]
    },
    {
     "name": "stderr",
     "output_type": "stream",
     "text": [
      "train loss: 5.82e-02 | test loss: 1.69e-01 | reg: 1.08e-02 : 100%|██| 20/20 [00:00<00:00, 53.60it/s]\n",
      "train loss: 5.82e-02 | test loss: 1.70e-01 | reg: 1.07e-02 : 100%|██| 50/50 [00:00<00:00, 55.66it/s]\n",
      "train loss: 5.82e-02 | test loss: 1.70e-01 | reg: 1.07e-02 : 100%|█| 50/50 [00:00<00:00, 135.08it/s]\n"
     ]
    },
    {
     "name": "stdout",
     "output_type": "stream",
     "text": [
      "fixing (0,0,0) with x^4, r2=0.9999510049819946\n"
     ]
    },
    {
     "name": "stderr",
     "output_type": "stream",
     "text": [
      "train loss: 6.15e-02 | test loss: 1.67e-01 | reg: 1.05e-02 : 100%|██| 50/50 [00:00<00:00, 91.17it/s]\n"
     ]
    },
    {
     "name": "stdout",
     "output_type": "stream",
     "text": [
      "\n",
      "Fold 10\n"
     ]
    },
    {
     "name": "stderr",
     "output_type": "stream",
     "text": [
      "train loss: 5.96e-02 | test loss: 1.65e-01 | reg: 1.10e-02 : 100%|██| 20/20 [00:00<00:00, 36.85it/s]\n",
      "train loss: 5.96e-02 | test loss: 1.65e-01 | reg: 1.10e-02 : 100%|█| 50/50 [00:00<00:00, 146.64it/s]\n",
      "train loss: 5.96e-02 | test loss: 1.65e-01 | reg: 1.10e-02 : 100%|██| 50/50 [00:00<00:00, 90.25it/s]\n"
     ]
    },
    {
     "name": "stdout",
     "output_type": "stream",
     "text": [
      "fixing (0,0,0) with x^3, r2=0.9999986886978149\n"
     ]
    },
    {
     "name": "stderr",
     "output_type": "stream",
     "text": [
      "train loss: 1.10e-01 | test loss: 1.23e-01 | reg: 9.72e-03 : 100%|█| 50/50 [00:00<00:00, 118.26it/s]\n"
     ]
    },
    {
     "name": "stdout",
     "output_type": "stream",
     "text": [
      "Average R^2: 0.7454046508549044\n",
      "Testing seed=1, grid=2\n",
      "\n",
      "Fold 1\n"
     ]
    },
    {
     "name": "stderr",
     "output_type": "stream",
     "text": [
      "train loss: 6.16e-02 | test loss: 1.34e-01 | reg: 1.10e-02 : 100%|██| 20/20 [00:00<00:00, 47.58it/s]\n",
      "train loss: 6.16e-02 | test loss: 1.34e-01 | reg: 1.10e-02 : 100%|█| 50/50 [00:00<00:00, 122.09it/s]\n",
      "train loss: 6.16e-02 | test loss: 1.34e-01 | reg: 1.10e-02 : 100%|█| 50/50 [00:00<00:00, 103.79it/s]\n"
     ]
    },
    {
     "name": "stdout",
     "output_type": "stream",
     "text": [
      "fixing (0,0,0) with x^4, r2=0.999898374080658\n"
     ]
    },
    {
     "name": "stderr",
     "output_type": "stream",
     "text": [
      "train loss: 6.48e-02 | test loss: 1.38e-01 | reg: 1.46e-02 : 100%|█| 50/50 [00:00<00:00, 143.09it/s]\n"
     ]
    },
    {
     "name": "stdout",
     "output_type": "stream",
     "text": [
      "\n",
      "Fold 2\n"
     ]
    },
    {
     "name": "stderr",
     "output_type": "stream",
     "text": [
      "train loss: 5.90e-02 | test loss: 1.88e-01 | reg: 1.83e-02 : 100%|██| 20/20 [00:00<00:00, 67.86it/s]\n",
      "train loss: 5.90e-02 | test loss: 1.88e-01 | reg: 1.83e-02 : 100%|██| 50/50 [00:00<00:00, 80.48it/s]\n",
      "train loss: 5.90e-02 | test loss: 1.88e-01 | reg: 1.83e-02 : 100%|██| 50/50 [00:00<00:00, 59.72it/s]\n"
     ]
    },
    {
     "name": "stdout",
     "output_type": "stream",
     "text": [
      "fixing (0,0,0) with arctan, r2=0.9985855221748352\n"
     ]
    },
    {
     "name": "stderr",
     "output_type": "stream",
     "text": [
      "train loss: 5.89e-02 | test loss: 1.89e-01 | reg: 1.86e-02 : 100%|██| 50/50 [00:00<00:00, 87.39it/s]\n"
     ]
    },
    {
     "name": "stdout",
     "output_type": "stream",
     "text": [
      "\n",
      "Fold 3\n"
     ]
    },
    {
     "name": "stderr",
     "output_type": "stream",
     "text": [
      "train loss: 6.19e-02 | test loss: 1.42e-01 | reg: 1.11e-02 : 100%|██| 20/20 [00:00<00:00, 38.09it/s]\n",
      "train loss: 6.19e-02 | test loss: 1.42e-01 | reg: 1.11e-02 : 100%|█| 50/50 [00:00<00:00, 118.13it/s]\n",
      "train loss: 6.19e-02 | test loss: 1.42e-01 | reg: 1.11e-02 : 100%|█| 50/50 [00:00<00:00, 135.13it/s]\n"
     ]
    },
    {
     "name": "stdout",
     "output_type": "stream",
     "text": [
      "fixing (0,0,0) with x^4, r2=0.9999620914459229\n"
     ]
    },
    {
     "name": "stderr",
     "output_type": "stream",
     "text": [
      "train loss: 6.49e-02 | test loss: 1.36e-01 | reg: 1.52e-02 : 100%|█| 50/50 [00:00<00:00, 131.71it/s]\n"
     ]
    },
    {
     "name": "stdout",
     "output_type": "stream",
     "text": [
      "\n",
      "Fold 4\n"
     ]
    },
    {
     "name": "stderr",
     "output_type": "stream",
     "text": [
      "train loss: 6.17e-02 | test loss: 1.28e-01 | reg: 1.11e-02 : 100%|██| 20/20 [00:00<00:00, 56.34it/s]\n",
      "train loss: 6.17e-02 | test loss: 1.28e-01 | reg: 1.11e-02 : 100%|█| 50/50 [00:00<00:00, 131.63it/s]\n",
      "train loss: 6.17e-02 | test loss: 1.28e-01 | reg: 1.11e-02 : 100%|█| 50/50 [00:00<00:00, 122.17it/s]\n"
     ]
    },
    {
     "name": "stdout",
     "output_type": "stream",
     "text": [
      "fixing (0,0,0) with cosh, r2=0.9996089935302734\n"
     ]
    },
    {
     "name": "stderr",
     "output_type": "stream",
     "text": [
      "train loss: 6.21e-02 | test loss: 1.27e-01 | reg: 1.09e-02 : 100%|██| 50/50 [00:00<00:00, 88.60it/s]\n"
     ]
    },
    {
     "name": "stdout",
     "output_type": "stream",
     "text": [
      "\n",
      "Fold 5\n"
     ]
    },
    {
     "name": "stderr",
     "output_type": "stream",
     "text": [
      "train loss: 5.81e-02 | test loss: 1.61e-01 | reg: 1.11e-02 : 100%|██| 20/20 [00:00<00:00, 47.58it/s]\n",
      "train loss: 5.81e-02 | test loss: 1.61e-01 | reg: 1.11e-02 : 100%|█| 50/50 [00:00<00:00, 136.82it/s]\n",
      "train loss: 5.81e-02 | test loss: 1.61e-01 | reg: 1.11e-02 : 100%|█| 50/50 [00:00<00:00, 152.20it/s]\n"
     ]
    },
    {
     "name": "stdout",
     "output_type": "stream",
     "text": [
      "fixing (0,0,0) with arctan, r2=0.9992537498474121\n"
     ]
    },
    {
     "name": "stderr",
     "output_type": "stream",
     "text": [
      "train loss: 5.77e-02 | test loss: 1.58e-01 | reg: 1.13e-02 : 100%|██| 50/50 [00:00<00:00, 91.40it/s]\n"
     ]
    },
    {
     "name": "stdout",
     "output_type": "stream",
     "text": [
      "\n",
      "Fold 6\n"
     ]
    },
    {
     "name": "stderr",
     "output_type": "stream",
     "text": [
      "train loss: 6.10e-02 | test loss: 1.71e-01 | reg: 1.08e-02 : 100%|██| 20/20 [00:00<00:00, 31.47it/s]\n",
      "train loss: 6.10e-02 | test loss: 1.71e-01 | reg: 1.08e-02 : 100%|█| 50/50 [00:00<00:00, 115.08it/s]\n",
      "train loss: 6.10e-02 | test loss: 1.71e-01 | reg: 1.08e-02 : 100%|█| 50/50 [00:00<00:00, 109.36it/s]\n"
     ]
    },
    {
     "name": "stdout",
     "output_type": "stream",
     "text": [
      "fixing (0,0,0) with arctan, r2=0.9991776943206787\n"
     ]
    },
    {
     "name": "stderr",
     "output_type": "stream",
     "text": [
      "train loss: 6.09e-02 | test loss: 1.70e-01 | reg: 1.09e-02 : 100%|█| 50/50 [00:00<00:00, 149.02it/s]\n"
     ]
    },
    {
     "name": "stdout",
     "output_type": "stream",
     "text": [
      "\n",
      "Fold 7\n"
     ]
    },
    {
     "name": "stderr",
     "output_type": "stream",
     "text": [
      "train loss: 6.15e-02 | test loss: 1.57e-01 | reg: 1.09e-02 : 100%|██| 20/20 [00:00<00:00, 30.21it/s]\n",
      "train loss: 6.15e-02 | test loss: 1.57e-01 | reg: 1.08e-02 : 100%|██| 50/50 [00:00<00:00, 80.30it/s]\n",
      "train loss: 6.15e-02 | test loss: 1.57e-01 | reg: 1.08e-02 : 100%|█| 50/50 [00:00<00:00, 165.63it/s]\n"
     ]
    },
    {
     "name": "stdout",
     "output_type": "stream",
     "text": [
      "fixing (0,0,0) with exp, r2=0.999275267124176\n"
     ]
    },
    {
     "name": "stderr",
     "output_type": "stream",
     "text": [
      "train loss: 6.19e-02 | test loss: 1.57e-01 | reg: 1.06e-02 : 100%|█| 50/50 [00:00<00:00, 134.11it/s]\n"
     ]
    },
    {
     "name": "stdout",
     "output_type": "stream",
     "text": [
      "\n",
      "Fold 8\n"
     ]
    },
    {
     "name": "stderr",
     "output_type": "stream",
     "text": [
      "train loss: 6.02e-02 | test loss: 1.27e-01 | reg: 1.12e-02 : 100%|██| 20/20 [00:00<00:00, 50.48it/s]\n",
      "train loss: 6.02e-02 | test loss: 1.27e-01 | reg: 1.12e-02 : 100%|█| 50/50 [00:00<00:00, 162.11it/s]\n",
      "train loss: 6.02e-02 | test loss: 1.27e-01 | reg: 1.12e-02 : 100%|█| 50/50 [00:00<00:00, 115.34it/s]\n"
     ]
    },
    {
     "name": "stdout",
     "output_type": "stream",
     "text": [
      "fixing (0,0,0) with exp, r2=0.999496340751648\n"
     ]
    },
    {
     "name": "stderr",
     "output_type": "stream",
     "text": [
      "train loss: 6.06e-02 | test loss: 1.26e-01 | reg: 1.10e-02 : 100%|█| 50/50 [00:00<00:00, 146.84it/s]\n"
     ]
    },
    {
     "name": "stdout",
     "output_type": "stream",
     "text": [
      "\n",
      "Fold 9\n"
     ]
    },
    {
     "name": "stderr",
     "output_type": "stream",
     "text": [
      "train loss: 5.82e-02 | test loss: 1.70e-01 | reg: 1.07e-02 : 100%|██| 20/20 [00:00<00:00, 55.92it/s]\n",
      "train loss: 5.82e-02 | test loss: 1.70e-01 | reg: 1.07e-02 : 100%|█| 50/50 [00:00<00:00, 167.76it/s]\n",
      "train loss: 5.82e-02 | test loss: 1.70e-01 | reg: 1.07e-02 : 100%|█| 50/50 [00:00<00:00, 126.77it/s]\n"
     ]
    },
    {
     "name": "stdout",
     "output_type": "stream",
     "text": [
      "fixing (0,0,0) with x^4, r2=0.9998205900192261\n"
     ]
    },
    {
     "name": "stderr",
     "output_type": "stream",
     "text": [
      "train loss: 6.15e-02 | test loss: 1.67e-01 | reg: 1.05e-02 : 100%|█| 50/50 [00:00<00:00, 105.72it/s]\n"
     ]
    },
    {
     "name": "stdout",
     "output_type": "stream",
     "text": [
      "\n",
      "Fold 10\n"
     ]
    },
    {
     "name": "stderr",
     "output_type": "stream",
     "text": [
      "train loss: 5.97e-02 | test loss: 1.65e-01 | reg: 1.10e-02 : 100%|██| 20/20 [00:00<00:00, 49.37it/s]\n",
      "train loss: 5.97e-02 | test loss: 1.65e-01 | reg: 1.10e-02 : 100%|█| 50/50 [00:00<00:00, 169.47it/s]\n",
      "train loss: 5.97e-02 | test loss: 1.65e-01 | reg: 1.10e-02 : 100%|█| 50/50 [00:00<00:00, 141.28it/s]\n"
     ]
    },
    {
     "name": "stdout",
     "output_type": "stream",
     "text": [
      "fixing (0,0,0) with x^4, r2=0.9999457597732544\n"
     ]
    },
    {
     "name": "stderr",
     "output_type": "stream",
     "text": [
      "train loss: 6.24e-02 | test loss: 1.61e-01 | reg: 1.07e-02 : 100%|█| 50/50 [00:00<00:00, 127.85it/s]\n"
     ]
    },
    {
     "name": "stdout",
     "output_type": "stream",
     "text": [
      "Average R^2: 0.7396752785197427\n",
      "Testing seed=1, grid=3\n",
      "\n",
      "Fold 1\n"
     ]
    },
    {
     "name": "stderr",
     "output_type": "stream",
     "text": [
      "train loss: 6.16e-02 | test loss: 1.34e-01 | reg: 1.11e-02 : 100%|██| 20/20 [00:00<00:00, 61.15it/s]\n",
      "train loss: 6.16e-02 | test loss: 1.34e-01 | reg: 1.11e-02 : 100%|██| 50/50 [00:00<00:00, 76.80it/s]\n",
      "train loss: 6.16e-02 | test loss: 1.34e-01 | reg: 1.11e-02 : 100%|█| 50/50 [00:00<00:00, 116.41it/s]\n"
     ]
    },
    {
     "name": "stdout",
     "output_type": "stream",
     "text": [
      "fixing (0,0,0) with x^3, r2=0.9999993443489075\n"
     ]
    },
    {
     "name": "stderr",
     "output_type": "stream",
     "text": [
      "train loss: 7.01e-02 | test loss: 1.37e-01 | reg: 1.01e-02 : 100%|██| 50/50 [00:00<00:00, 85.47it/s]\n"
     ]
    },
    {
     "name": "stdout",
     "output_type": "stream",
     "text": [
      "\n",
      "Fold 2\n"
     ]
    },
    {
     "name": "stderr",
     "output_type": "stream",
     "text": [
      "train loss: 5.91e-02 | test loss: 5.47e-01 | reg: 1.84e-02 : 100%|██| 20/20 [00:00<00:00, 48.89it/s]\n",
      "train loss: 5.91e-02 | test loss: 5.49e-01 | reg: 1.84e-02 : 100%|██| 50/50 [00:00<00:00, 82.49it/s]\n",
      "train loss: 5.91e-02 | test loss: 5.49e-01 | reg: 1.84e-02 : 100%|█| 50/50 [00:00<00:00, 113.45it/s]\n"
     ]
    },
    {
     "name": "stdout",
     "output_type": "stream",
     "text": [
      "fixing (0,0,0) with cosh, r2=0.9985430836677551\n"
     ]
    },
    {
     "name": "stderr",
     "output_type": "stream",
     "text": [
      "train loss: 5.95e-02 | test loss: 2.57e-01 | reg: 1.79e-02 : 100%|██| 50/50 [00:00<00:00, 70.31it/s]\n"
     ]
    },
    {
     "name": "stdout",
     "output_type": "stream",
     "text": [
      "\n",
      "Fold 3\n"
     ]
    },
    {
     "name": "stderr",
     "output_type": "stream",
     "text": [
      "train loss: 6.20e-02 | test loss: 1.43e-01 | reg: 1.12e-02 : 100%|██| 20/20 [00:00<00:00, 61.46it/s]\n",
      "train loss: 6.20e-02 | test loss: 1.42e-01 | reg: 1.11e-02 : 100%|██| 50/50 [00:00<00:00, 75.33it/s]\n",
      "train loss: 6.20e-02 | test loss: 1.42e-01 | reg: 1.11e-02 : 100%|██| 50/50 [00:00<00:00, 88.95it/s]\n"
     ]
    },
    {
     "name": "stdout",
     "output_type": "stream",
     "text": [
      "fixing (0,0,0) with x^4, r2=0.9999778866767883\n"
     ]
    },
    {
     "name": "stderr",
     "output_type": "stream",
     "text": [
      "train loss: 6.49e-02 | test loss: 1.36e-01 | reg: 1.51e-02 : 100%|█| 50/50 [00:00<00:00, 134.88it/s]\n"
     ]
    },
    {
     "name": "stdout",
     "output_type": "stream",
     "text": [
      "\n",
      "Fold 4\n"
     ]
    },
    {
     "name": "stderr",
     "output_type": "stream",
     "text": [
      "train loss: 6.17e-02 | test loss: 1.29e-01 | reg: 1.12e-02 : 100%|██| 20/20 [00:00<00:00, 64.59it/s]\n",
      "train loss: 6.17e-02 | test loss: 1.28e-01 | reg: 1.12e-02 : 100%|██| 50/50 [00:00<00:00, 76.90it/s]\n",
      "train loss: 6.17e-02 | test loss: 1.28e-01 | reg: 1.12e-02 : 100%|██| 50/50 [00:00<00:00, 89.35it/s]\n"
     ]
    },
    {
     "name": "stdout",
     "output_type": "stream",
     "text": [
      "fixing (0,0,0) with tanh, r2=0.9993158578872681\n"
     ]
    },
    {
     "name": "stderr",
     "output_type": "stream",
     "text": [
      "train loss: 6.14e-02 | test loss: 1.29e-01 | reg: 1.15e-02 : 100%|██| 50/50 [00:00<00:00, 79.63it/s]\n"
     ]
    },
    {
     "name": "stdout",
     "output_type": "stream",
     "text": [
      "\n",
      "Fold 5\n"
     ]
    },
    {
     "name": "stderr",
     "output_type": "stream",
     "text": [
      "train loss: 5.81e-02 | test loss: 1.61e-01 | reg: 1.11e-02 : 100%|██| 20/20 [00:00<00:00, 52.93it/s]\n",
      "train loss: 5.81e-02 | test loss: 1.61e-01 | reg: 1.11e-02 : 100%|██| 50/50 [00:00<00:00, 82.56it/s]\n",
      "train loss: 5.81e-02 | test loss: 1.61e-01 | reg: 1.11e-02 : 100%|██| 50/50 [00:00<00:00, 94.74it/s]\n"
     ]
    },
    {
     "name": "stdout",
     "output_type": "stream",
     "text": [
      "fixing (0,0,0) with tanh, r2=0.9991652369499207\n"
     ]
    },
    {
     "name": "stderr",
     "output_type": "stream",
     "text": [
      "train loss: 5.78e-02 | test loss: 1.59e-01 | reg: 1.14e-02 : 100%|█| 50/50 [00:00<00:00, 120.26it/s]\n"
     ]
    },
    {
     "name": "stdout",
     "output_type": "stream",
     "text": [
      "\n",
      "Fold 6\n"
     ]
    },
    {
     "name": "stderr",
     "output_type": "stream",
     "text": [
      "train loss: 6.10e-02 | test loss: 1.71e-01 | reg: 1.09e-02 : 100%|██| 20/20 [00:00<00:00, 44.24it/s]\n",
      "train loss: 6.10e-02 | test loss: 1.71e-01 | reg: 1.09e-02 : 100%|██| 50/50 [00:00<00:00, 95.27it/s]\n",
      "train loss: 6.10e-02 | test loss: 1.71e-01 | reg: 1.09e-02 : 100%|█| 50/50 [00:00<00:00, 108.09it/s]\n"
     ]
    },
    {
     "name": "stdout",
     "output_type": "stream",
     "text": [
      "fixing (0,0,0) with arctan, r2=0.9985214471817017\n"
     ]
    },
    {
     "name": "stderr",
     "output_type": "stream",
     "text": [
      "train loss: 6.09e-02 | test loss: 1.70e-01 | reg: 1.09e-02 : 100%|█| 50/50 [00:00<00:00, 151.81it/s]\n"
     ]
    },
    {
     "name": "stdout",
     "output_type": "stream",
     "text": [
      "\n",
      "Fold 7\n"
     ]
    },
    {
     "name": "stderr",
     "output_type": "stream",
     "text": [
      "train loss: 6.15e-02 | test loss: 1.57e-01 | reg: 1.09e-02 : 100%|██| 20/20 [00:00<00:00, 62.04it/s]\n",
      "train loss: 6.15e-02 | test loss: 1.57e-01 | reg: 1.09e-02 : 100%|██| 50/50 [00:00<00:00, 73.48it/s]\n",
      "train loss: 6.15e-02 | test loss: 1.57e-01 | reg: 1.09e-02 : 100%|██| 50/50 [00:00<00:00, 61.36it/s]\n"
     ]
    },
    {
     "name": "stdout",
     "output_type": "stream",
     "text": [
      "fixing (0,0,0) with tanh, r2=0.9991387724876404\n"
     ]
    },
    {
     "name": "stderr",
     "output_type": "stream",
     "text": [
      "train loss: 6.13e-02 | test loss: 1.58e-01 | reg: 1.11e-02 : 100%|█| 50/50 [00:00<00:00, 146.30it/s]\n"
     ]
    },
    {
     "name": "stdout",
     "output_type": "stream",
     "text": [
      "\n",
      "Fold 8\n"
     ]
    },
    {
     "name": "stderr",
     "output_type": "stream",
     "text": [
      "train loss: 6.02e-02 | test loss: 1.28e-01 | reg: 1.13e-02 : 100%|██| 20/20 [00:00<00:00, 60.32it/s]\n",
      "train loss: 6.02e-02 | test loss: 1.28e-01 | reg: 1.13e-02 : 100%|██| 50/50 [00:00<00:00, 89.66it/s]\n",
      "train loss: 6.02e-02 | test loss: 1.28e-01 | reg: 1.13e-02 : 100%|██| 50/50 [00:00<00:00, 99.39it/s]\n"
     ]
    },
    {
     "name": "stdout",
     "output_type": "stream",
     "text": [
      "fixing (0,0,0) with arctan, r2=0.9981462359428406\n"
     ]
    },
    {
     "name": "stderr",
     "output_type": "stream",
     "text": [
      "train loss: 6.01e-02 | test loss: 1.27e-01 | reg: 1.14e-02 : 100%|█| 50/50 [00:00<00:00, 106.30it/s]\n"
     ]
    },
    {
     "name": "stdout",
     "output_type": "stream",
     "text": [
      "\n",
      "Fold 9\n"
     ]
    },
    {
     "name": "stderr",
     "output_type": "stream",
     "text": [
      "train loss: 5.82e-02 | test loss: 1.69e-01 | reg: 1.08e-02 : 100%|██| 20/20 [00:00<00:00, 56.30it/s]\n",
      "train loss: 5.82e-02 | test loss: 1.70e-01 | reg: 1.08e-02 : 100%|██| 50/50 [00:00<00:00, 73.40it/s]\n",
      "train loss: 5.82e-02 | test loss: 1.70e-01 | reg: 1.07e-02 : 100%|██| 50/50 [00:00<00:00, 78.04it/s]\n"
     ]
    },
    {
     "name": "stdout",
     "output_type": "stream",
     "text": [
      "fixing (0,0,0) with x^4, r2=0.9999597668647766\n"
     ]
    },
    {
     "name": "stderr",
     "output_type": "stream",
     "text": [
      "train loss: 6.15e-02 | test loss: 1.67e-01 | reg: 1.05e-02 : 100%|██| 50/50 [00:00<00:00, 63.61it/s]\n"
     ]
    },
    {
     "name": "stdout",
     "output_type": "stream",
     "text": [
      "\n",
      "Fold 10\n"
     ]
    },
    {
     "name": "stderr",
     "output_type": "stream",
     "text": [
      "train loss: 5.96e-02 | test loss: 1.65e-01 | reg: 1.10e-02 : 100%|██| 20/20 [00:00<00:00, 66.95it/s]\n",
      "train loss: 5.96e-02 | test loss: 1.65e-01 | reg: 1.10e-02 : 100%|█| 50/50 [00:00<00:00, 118.78it/s]\n",
      "train loss: 5.96e-02 | test loss: 1.65e-01 | reg: 1.10e-02 : 100%|█| 50/50 [00:00<00:00, 103.89it/s]\n"
     ]
    },
    {
     "name": "stdout",
     "output_type": "stream",
     "text": [
      "fixing (0,0,0) with x^3, r2=0.9999986290931702\n"
     ]
    },
    {
     "name": "stderr",
     "output_type": "stream",
     "text": [
      "train loss: 6.76e-02 | test loss: 1.53e-01 | reg: 9.95e-03 : 100%|█| 50/50 [00:00<00:00, 141.65it/s]"
     ]
    },
    {
     "name": "stdout",
     "output_type": "stream",
     "text": [
      "Average R^2: 0.6671218566198217\n",
      "\n",
      "Best parameters found:\n",
      "Seed: 0\n",
      "Grid: 3\n",
      "Best average R^2: 0.7454046508549044\n"
     ]
    },
    {
     "name": "stderr",
     "output_type": "stream",
     "text": [
      "\n"
     ]
    }
   ],
   "source": [
    "# -----   Grid search with 10-fold cross validation ----\n",
    "# Example range of seeds and grid values to try\n",
    "seed_range = range(0, 2)  \n",
    "grid_range = range(2, 4)   \n",
    "\n",
    "best_r2 = -float('inf')\n",
    "best_seed = None\n",
    "best_grid = None\n",
    "\n",
    "# Iterate over different combinations of seed and grid\n",
    "for seed in seed_range:\n",
    "    for grid in grid_range:\n",
    "        print(f\"Testing seed={seed}, grid={grid}\")\n",
    "\n",
    "        avg_r2 = average_r2(df_all, opt, lamb, lamb_coef, grid, seed, lib,\n",
    "                            x_label='Phi', y_label='Qb_hat/P_hat_true',\n",
    "                            n_splits=10, random_state=5)\n",
    "\n",
    "        print(f\"Average R^2: {avg_r2}\")\n",
    "\n",
    "        # Update best parameters if current combination is better\n",
    "        if avg_r2 > best_r2:\n",
    "            best_r2 = avg_r2\n",
    "            best_seed = seed\n",
    "            best_grid = grid\n",
    "\n",
    "print(f\"\\nBest parameters found:\")\n",
    "print(f\"Seed: {best_seed}\")\n",
    "print(f\"Grid: {best_grid}\")\n",
    "print(f\"Best average R^2: {best_r2}\")"
   ],
   "metadata": {
    "collapsed": false,
    "ExecuteTime": {
     "end_time": "2024-10-10T08:07:12.200057Z",
     "start_time": "2024-10-10T08:05:43.759293Z"
    }
   }
  },
  {
   "cell_type": "markdown",
   "source": [
    "# Check the optimal model with the best parameters"
   ],
   "metadata": {
    "collapsed": false
   }
  },
  {
   "cell_type": "code",
   "execution_count": 9,
   "outputs": [
    {
     "name": "stdout",
     "output_type": "stream",
     "text": [
      "\n",
      "Fold 1\n"
     ]
    },
    {
     "name": "stderr",
     "output_type": "stream",
     "text": [
      "train loss: 6.16e-02 | test loss: 1.34e-01 | reg: 1.11e-02 : 100%|██| 20/20 [00:00<00:00, 40.01it/s]\n",
      "train loss: 6.16e-02 | test loss: 1.34e-01 | reg: 1.11e-02 : 100%|█| 50/50 [00:00<00:00, 130.11it/s]\n",
      "train loss: 6.16e-02 | test loss: 1.34e-01 | reg: 1.11e-02 : 100%|█| 50/50 [00:00<00:00, 110.45it/s]\n"
     ]
    },
    {
     "name": "stdout",
     "output_type": "stream",
     "text": [
      "fixing (0,0,0) with x^3, r2=0.9999996423721313\n"
     ]
    },
    {
     "name": "stderr",
     "output_type": "stream",
     "text": [
      "train loss: 7.01e-02 | test loss: 1.37e-01 | reg: 1.01e-02 : 100%|█| 50/50 [00:00<00:00, 101.57it/s]\n"
     ]
    },
    {
     "name": "stdout",
     "output_type": "stream",
     "text": [
      "... KAN eqn: 0.52*(1 - 0.24*x_1)**3 - 0.e-2\n",
      "... Pre-training set (R^2): 0.6639028293563374\n",
      "... Validation set (R^2): 0.7493244706449997\n",
      "\n",
      "\n",
      "Model performance on training data:\n",
      "R^2 (train): 0.6706621257799479\n",
      "RMSE (train): 0.0686342646624862\n",
      "KGE (train): 0.7371960596143217\n",
      "NSE (train): 0.670584567585866\n",
      "\n",
      "Model performance on test data:\n",
      "R^2 (test): 0.6590677133713186\n",
      "RMSE (test): 0.06775534440622558\n",
      "KGE (test): 0.6887054591594054\n",
      "NSE (test): 0.6515954861586928\n",
      "\n",
      "Fold 2\n"
     ]
    },
    {
     "name": "stderr",
     "output_type": "stream",
     "text": [
      "train loss: 5.91e-02 | test loss: 1.84e-01 | reg: 1.84e-02 : 100%|██| 20/20 [00:00<00:00, 60.95it/s]\n",
      "train loss: 5.91e-02 | test loss: 1.84e-01 | reg: 1.84e-02 : 100%|██| 50/50 [00:00<00:00, 78.68it/s]\n",
      "train loss: 5.91e-02 | test loss: 1.84e-01 | reg: 1.84e-02 : 100%|██| 50/50 [00:00<00:00, 87.81it/s]\n"
     ]
    },
    {
     "name": "stdout",
     "output_type": "stream",
     "text": [
      "fixing (0,0,0) with cosh, r2=0.9870108366012573\n"
     ]
    },
    {
     "name": "stderr",
     "output_type": "stream",
     "text": [
      "train loss: 5.95e-02 | test loss: 1.86e-01 | reg: 1.79e-02 : 100%|██| 50/50 [00:00<00:00, 99.29it/s]\n"
     ]
    },
    {
     "name": "stdout",
     "output_type": "stream",
     "text": [
      "... KAN eqn: 0.03\n",
      "... Pre-training set (R^2): 0.7399408786286475\n",
      "... Validation set (R^2): 0.7593354038924806\n",
      "\n",
      "\n",
      "Model performance on training data:\n",
      "R^2 (train): 0.742300975031701\n",
      "RMSE (train): 0.060724108480515605\n",
      "KGE (train): 0.7996667360335922\n",
      "NSE (train): 0.7421398293055952\n",
      "\n",
      "Model performance on test data:\n",
      "R^2 (test): 0.7114599897626578\n",
      "RMSE (test): 0.062093930376120085\n",
      "KGE (test): 0.7809969407145749\n",
      "NSE (test): 0.7073860953839091\n",
      "\n",
      "Fold 3\n"
     ]
    },
    {
     "name": "stderr",
     "output_type": "stream",
     "text": [
      "train loss: 6.20e-02 | test loss: 1.43e-01 | reg: 1.12e-02 : 100%|██| 20/20 [00:00<00:00, 60.10it/s]\n",
      "train loss: 6.20e-02 | test loss: 1.42e-01 | reg: 1.11e-02 : 100%|██| 50/50 [00:00<00:00, 73.19it/s]\n",
      "train loss: 6.20e-02 | test loss: 1.42e-01 | reg: 1.11e-02 : 100%|█| 50/50 [00:00<00:00, 161.50it/s]\n"
     ]
    },
    {
     "name": "stdout",
     "output_type": "stream",
     "text": [
      "fixing (0,0,0) with x^4, r2=0.9999532699584961\n"
     ]
    },
    {
     "name": "stderr",
     "output_type": "stream",
     "text": [
      "train loss: 6.49e-02 | test loss: 1.36e-01 | reg: 1.09e-02 : 100%|█| 50/50 [00:00<00:00, 114.73it/s]\n"
     ]
    },
    {
     "name": "stdout",
     "output_type": "stream",
     "text": [
      "... KAN eqn: 0.62*(1 - 0.24*x_1)**4 + 0.01\n",
      "... Pre-training set (R^2): 0.7139496184057499\n",
      "... Validation set (R^2): 0.847825247541654\n",
      "\n",
      "\n",
      "Model performance on training data:\n",
      "R^2 (train): 0.7189859293341181\n",
      "RMSE (train): 0.06345479980989682\n",
      "KGE (train): 0.770833543773507\n",
      "NSE (train): 0.7184270521632046\n",
      "\n",
      "Model performance on test data:\n",
      "R^2 (test): 0.6998565987076784\n",
      "RMSE (test): 0.06368444179134618\n",
      "KGE (test): 0.7491158343685655\n",
      "NSE (test): 0.6922037307092512\n",
      "\n",
      "Fold 4\n"
     ]
    },
    {
     "name": "stderr",
     "output_type": "stream",
     "text": [
      "train loss: 6.17e-02 | test loss: 1.29e-01 | reg: 1.12e-02 : 100%|██| 20/20 [00:00<00:00, 47.76it/s]\n",
      "train loss: 6.17e-02 | test loss: 1.29e-01 | reg: 1.12e-02 : 100%|██| 50/50 [00:00<00:00, 79.79it/s]\n",
      "train loss: 6.17e-02 | test loss: 1.29e-01 | reg: 1.12e-02 : 100%|█| 50/50 [00:00<00:00, 138.97it/s]\n"
     ]
    },
    {
     "name": "stdout",
     "output_type": "stream",
     "text": [
      "fixing (0,0,0) with tanh, r2=0.9992700219154358\n"
     ]
    },
    {
     "name": "stderr",
     "output_type": "stream",
     "text": [
      "train loss: 6.14e-02 | test loss: 1.29e-01 | reg: 1.15e-02 : 100%|█| 50/50 [00:00<00:00, 138.45it/s]\n"
     ]
    },
    {
     "name": "stdout",
     "output_type": "stream",
     "text": [
      "... KAN eqn: 0.39 - 0.34*tanh(1.42*x_1 - 0.82)\n",
      "... Pre-training set (R^2): 0.7467385645332453\n",
      "... Validation set (R^2): 0.7722991462248904\n",
      "\n",
      "\n",
      "Model performance on training data:\n",
      "R^2 (train): 0.7474905810222926\n",
      "RMSE (train): 0.06010343033108799\n",
      "KGE (train): 0.8040276374351344\n",
      "NSE (train): 0.7473842117724503\n",
      "\n",
      "Model performance on test data:\n",
      "R^2 (test): 0.7440847811189126\n",
      "RMSE (test): 0.058473655281330465\n",
      "KGE (test): 0.7943953652440818\n",
      "NSE (test): 0.7405120799817747\n",
      "\n",
      "Fold 5\n"
     ]
    },
    {
     "name": "stderr",
     "output_type": "stream",
     "text": [
      "train loss: 5.81e-02 | test loss: 1.61e-01 | reg: 1.12e-02 : 100%|██| 20/20 [00:00<00:00, 57.41it/s]\n",
      "train loss: 5.81e-02 | test loss: 1.61e-01 | reg: 1.12e-02 : 100%|█| 50/50 [00:00<00:00, 115.44it/s]\n",
      "train loss: 5.81e-02 | test loss: 1.61e-01 | reg: 1.11e-02 : 100%|██| 50/50 [00:00<00:00, 74.95it/s]\n"
     ]
    },
    {
     "name": "stdout",
     "output_type": "stream",
     "text": [
      "fixing (0,0,0) with x^4, r2=0.9991799592971802\n"
     ]
    },
    {
     "name": "stderr",
     "output_type": "stream",
     "text": [
      "train loss: 6.17e-02 | test loss: 1.62e-01 | reg: 1.08e-02 : 100%|██| 50/50 [00:00<00:00, 93.70it/s]\n"
     ]
    },
    {
     "name": "stdout",
     "output_type": "stream",
     "text": [
      "... KAN eqn: 0.63*(1 - 0.24*x_1)**4 + 0.01\n",
      "... Pre-training set (R^2): 0.7303405452633105\n",
      "... Validation set (R^2): 0.6251395347208688\n",
      "\n",
      "\n",
      "Model performance on training data:\n",
      "R^2 (train): 0.7190430674604805\n",
      "RMSE (train): 0.06338651285881212\n",
      "KGE (train): 0.7849563452241733\n",
      "NSE (train): 0.7190327561347556\n",
      "\n",
      "Model performance on test data:\n",
      "R^2 (test): 0.7004642164145592\n",
      "RMSE (test): 0.06325701233115784\n",
      "KGE (test): 0.7665780819234923\n",
      "NSE (test): 0.696321524360779\n",
      "\n",
      "Fold 6\n"
     ]
    },
    {
     "name": "stderr",
     "output_type": "stream",
     "text": [
      "train loss: 6.10e-02 | test loss: 1.71e-01 | reg: 1.09e-02 : 100%|██| 20/20 [00:00<00:00, 30.36it/s]\n",
      "train loss: 6.10e-02 | test loss: 1.71e-01 | reg: 1.09e-02 : 100%|██| 50/50 [00:00<00:00, 82.62it/s]\n",
      "train loss: 6.10e-02 | test loss: 1.71e-01 | reg: 1.09e-02 : 100%|█| 50/50 [00:00<00:00, 112.32it/s]\n"
     ]
    },
    {
     "name": "stdout",
     "output_type": "stream",
     "text": [
      "fixing (0,0,0) with arctan, r2=0.998528778553009\n"
     ]
    },
    {
     "name": "stderr",
     "output_type": "stream",
     "text": [
      "train loss: 6.09e-02 | test loss: 1.70e-01 | reg: 1.09e-02 : 100%|█| 50/50 [00:00<00:00, 115.69it/s]\n"
     ]
    },
    {
     "name": "stdout",
     "output_type": "stream",
     "text": [
      "... KAN eqn: 0.35 - 0.23*atan(2.34*x_1 - 1.53)\n",
      "... Pre-training set (R^2): 0.7351202699912679\n",
      "... Validation set (R^2): 0.8375636221870653\n",
      "\n",
      "\n",
      "Model performance on training data:\n",
      "R^2 (train): 0.7473431454967762\n",
      "RMSE (train): 0.06012164229720497\n",
      "KGE (train): 0.8006136997666389\n",
      "NSE (train): 0.7472310981424986\n",
      "\n",
      "Model performance on test data:\n",
      "R^2 (test): 0.7432412318976168\n",
      "RMSE (test): 0.058454061339499236\n",
      "KGE (test): 0.7837769824662804\n",
      "NSE (test): 0.740685954500881\n",
      "\n",
      "Fold 7\n"
     ]
    },
    {
     "name": "stderr",
     "output_type": "stream",
     "text": [
      "train loss: 6.15e-02 | test loss: 1.57e-01 | reg: 1.09e-02 : 100%|██| 20/20 [00:00<00:00, 54.38it/s]\n",
      "train loss: 6.15e-02 | test loss: 1.57e-01 | reg: 1.09e-02 : 100%|██| 50/50 [00:00<00:00, 68.97it/s]\n",
      "train loss: 6.15e-02 | test loss: 1.57e-01 | reg: 1.09e-02 : 100%|█| 50/50 [00:00<00:00, 103.20it/s]\n"
     ]
    },
    {
     "name": "stdout",
     "output_type": "stream",
     "text": [
      "fixing (0,0,0) with tanh, r2=0.9990874528884888\n"
     ]
    },
    {
     "name": "stderr",
     "output_type": "stream",
     "text": [
      "train loss: 6.13e-02 | test loss: 1.58e-01 | reg: 1.11e-02 : 100%|█| 50/50 [00:00<00:00, 142.47it/s]\n"
     ]
    },
    {
     "name": "stdout",
     "output_type": "stream",
     "text": [
      "... KAN eqn: 0.43 - 0.38*tanh(1.34*x_1 - 0.67)\n",
      "... Pre-training set (R^2): 0.7393297837804095\n",
      "... Validation set (R^2): 0.8400163419783512\n",
      "\n",
      "\n",
      "Model performance on training data:\n",
      "R^2 (train): 0.7474610180748398\n",
      "RMSE (train): 0.060111034113169905\n",
      "KGE (train): 0.8030136268524994\n",
      "NSE (train): 0.7473202900662332\n",
      "\n",
      "Model performance on test data:\n",
      "R^2 (test): 0.7398998351471184\n",
      "RMSE (test): 0.059004565917539976\n",
      "KGE (test): 0.7920622236045071\n",
      "NSE (test): 0.7357786555652777\n",
      "\n",
      "Fold 8\n"
     ]
    },
    {
     "name": "stderr",
     "output_type": "stream",
     "text": [
      "train loss: 6.02e-02 | test loss: 1.28e-01 | reg: 1.13e-02 : 100%|██| 20/20 [00:00<00:00, 42.17it/s]\n",
      "train loss: 6.02e-02 | test loss: 1.28e-01 | reg: 1.13e-02 : 100%|██| 50/50 [00:00<00:00, 87.53it/s]\n",
      "train loss: 6.02e-02 | test loss: 1.28e-01 | reg: 1.13e-02 : 100%|██| 50/50 [00:00<00:00, 92.08it/s]\n"
     ]
    },
    {
     "name": "stdout",
     "output_type": "stream",
     "text": [
      "fixing (0,0,0) with arctan, r2=0.9981390833854675\n"
     ]
    },
    {
     "name": "stderr",
     "output_type": "stream",
     "text": [
      "train loss: 6.01e-02 | test loss: 1.27e-01 | reg: 1.14e-02 : 100%|█| 50/50 [00:00<00:00, 133.52it/s]\n"
     ]
    },
    {
     "name": "stdout",
     "output_type": "stream",
     "text": [
      "... KAN eqn: 0.35 - 0.22*atan(2.31*x_1 - 1.55)\n",
      "... Pre-training set (R^2): 0.7546117871241649\n",
      "... Validation set (R^2): 0.6282923707483421\n",
      "\n",
      "\n",
      "Model performance on training data:\n",
      "R^2 (train): 0.7474647307506397\n",
      "RMSE (train): 0.06009557929722565\n",
      "KGE (train): 0.8080155041617537\n",
      "NSE (train): 0.7474502035323969\n",
      "\n",
      "Model performance on test data:\n",
      "R^2 (test): 0.7450739778346601\n",
      "RMSE (test): 0.05820367680132587\n",
      "KGE (test): 0.7920149900225495\n",
      "NSE (test): 0.7429027096044658\n",
      "\n",
      "Fold 9\n"
     ]
    },
    {
     "name": "stderr",
     "output_type": "stream",
     "text": [
      "train loss: 5.82e-02 | test loss: 1.69e-01 | reg: 1.08e-02 : 100%|██| 20/20 [00:00<00:00, 58.30it/s]\n",
      "train loss: 5.82e-02 | test loss: 1.70e-01 | reg: 1.07e-02 : 100%|██| 50/50 [00:00<00:00, 56.79it/s]\n",
      "train loss: 5.82e-02 | test loss: 1.70e-01 | reg: 1.07e-02 : 100%|█| 50/50 [00:00<00:00, 132.19it/s]\n"
     ]
    },
    {
     "name": "stdout",
     "output_type": "stream",
     "text": [
      "fixing (0,0,0) with x^4, r2=0.9999510049819946\n"
     ]
    },
    {
     "name": "stderr",
     "output_type": "stream",
     "text": [
      "train loss: 6.15e-02 | test loss: 1.67e-01 | reg: 1.05e-02 : 100%|██| 50/50 [00:00<00:00, 91.61it/s]\n"
     ]
    },
    {
     "name": "stdout",
     "output_type": "stream",
     "text": [
      "... KAN eqn: 0.62*(1 - 0.24*x_1)**4 + 0.01\n",
      "... Pre-training set (R^2): 0.7231243583021\n",
      "... Validation set (R^2): 0.6893421521892057\n",
      "\n",
      "\n",
      "Model performance on training data:\n",
      "R^2 (train): 0.719036825627427\n",
      "RMSE (train): 0.06351083505313247\n",
      "KGE (train): 0.7829546143082113\n",
      "NSE (train): 0.717929533449492\n",
      "\n",
      "Model performance on test data:\n",
      "R^2 (test): 0.7003562641141129\n",
      "RMSE (test): 0.06295778598283883\n",
      "KGE (test): 0.7671710875907053\n",
      "NSE (test): 0.6991877261901824\n",
      "\n",
      "Fold 10\n"
     ]
    },
    {
     "name": "stderr",
     "output_type": "stream",
     "text": [
      "train loss: 5.96e-02 | test loss: 1.65e-01 | reg: 1.10e-02 : 100%|██| 20/20 [00:00<00:00, 37.74it/s]\n",
      "train loss: 5.96e-02 | test loss: 1.65e-01 | reg: 1.10e-02 : 100%|█| 50/50 [00:00<00:00, 149.87it/s]\n",
      "train loss: 5.96e-02 | test loss: 1.65e-01 | reg: 1.10e-02 : 100%|██| 50/50 [00:00<00:00, 94.90it/s]\n"
     ]
    },
    {
     "name": "stdout",
     "output_type": "stream",
     "text": [
      "fixing (0,0,0) with x^3, r2=0.9999986886978149\n"
     ]
    },
    {
     "name": "stderr",
     "output_type": "stream",
     "text": [
      "train loss: 1.10e-01 | test loss: 1.23e-01 | reg: 9.72e-03 : 100%|█| 50/50 [00:00<00:00, 114.37it/s]\n"
     ]
    },
    {
     "name": "stdout",
     "output_type": "stream",
     "text": [
      "... KAN eqn: 0.11*(1 - 0.4*x_1)**3 + 0.17\n",
      "... Pre-training set (R^2): 0.14571679253217518\n",
      "... Validation set (R^2): 0.7049082184211856\n",
      "\n",
      "\n",
      "Model performance on training data:\n",
      "R^2 (train): 0.15314886347845938\n",
      "RMSE (train): 0.11009045973432595\n",
      "KGE (train): 0.12055943591271734\n",
      "NSE (train): 0.1524577800824073\n",
      "\n",
      "Model performance on test data:\n",
      "R^2 (test): 0.6915225088015506\n",
      "RMSE (test): 0.10254940418025006\n",
      "KGE (test): 0.11276289356104474\n",
      "NSE (test): 0.20188965248469604\n"
     ]
    },
    {
     "data": {
      "text/plain": "0.7454046508549044"
     },
     "execution_count": 9,
     "metadata": {},
     "output_type": "execute_result"
    }
   ],
   "source": [
    "average_r2(df_all, opt, lamb, lamb_coef, best_grid, best_seed, lib,\n",
    "           x_label='Phi', y_label='Qb_hat/P_hat_true',\n",
    "           n_splits=10, random_state=5, verbose = 2)"
   ],
   "metadata": {
    "collapsed": false,
    "ExecuteTime": {
     "end_time": "2024-10-10T08:07:32.827195Z",
     "start_time": "2024-10-10T08:07:12.200209Z"
    }
   }
  },
  {
   "cell_type": "markdown",
   "source": [
    "# Optimal model and its model performance\n",
    "'''\n",
    "... KAN eqn: 0.39 - 0.34*tanh(1.42*x_1 - 0.82)\n",
    "\n",
    "Model performance on training data:\n",
    "R^2 (train): 0.7474905810222926\n",
    "RMSE (train): 0.06010343033108799\n",
    "KGE (train): 0.8040276374351344\n",
    "NSE (train): 0.7473842117724503\n",
    "\n",
    "Model performance on test data:\n",
    "R^2 (test): 0.7440847811189126\n",
    "RMSE (test): 0.058473655281330465\n",
    "KGE (test): 0.7943953652440818\n",
    "NSE (test): 0.7405120799817747\n",
    "'''"
   ],
   "metadata": {
    "collapsed": false
   }
  },
  {
   "cell_type": "code",
   "execution_count": null,
   "outputs": [],
   "source": [],
   "metadata": {
    "collapsed": false
   }
  }
 ],
 "metadata": {
  "kernelspec": {
   "name": "cive898",
   "language": "python",
   "display_name": "cive898"
  },
  "language_info": {
   "codemirror_mode": {
    "name": "ipython",
    "version": 3
   },
   "file_extension": ".py",
   "mimetype": "text/x-python",
   "name": "python",
   "nbconvert_exporter": "python",
   "pygments_lexer": "ipython3",
   "version": "3.7.6"
  }
 },
 "nbformat": 4,
 "nbformat_minor": 4
}
